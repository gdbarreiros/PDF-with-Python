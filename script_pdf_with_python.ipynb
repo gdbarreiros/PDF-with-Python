{
 "cells": [
  {
   "cell_type": "code",
   "execution_count": null,
   "id": "1db6e865",
   "metadata": {},
   "outputs": [],
   "source": [
    "# Here I'm installing the necessary library\n",
    "\n",
    "pip install pypdf2"
   ]
  },
  {
   "cell_type": "code",
   "execution_count": null,
   "id": "6d5a7aa8",
   "metadata": {},
   "outputs": [],
   "source": [
    "# Importing the libraries\n",
    "\n",
    "import PyPDF2\n",
    "import pandas as pd"
   ]
  },
  {
   "cell_type": "code",
   "execution_count": null,
   "id": "d200243c",
   "metadata": {},
   "outputs": [],
   "source": [
    "# Creating the variable path, which is a string that holds the path to the .pdf file\n",
    "\n",
    "path = # Path to the .pdf file"
   ]
  },
  {
   "cell_type": "code",
   "execution_count": null,
   "id": "cbdea7d0",
   "metadata": {},
   "outputs": [],
   "source": [
    "# Reading the .pdf file using PdfReader\n",
    "\n",
    "read_pdf = PyPDF2.PdfReader(path)"
   ]
  },
  {
   "cell_type": "code",
   "execution_count": null,
   "id": "ac19f490",
   "metadata": {},
   "outputs": [],
   "source": [
    "# Retrieving the number of pages of the .pdf file using the function len\n",
    "\n",
    "number_of_pages = len(read_pdf.pages)"
   ]
  },
  {
   "cell_type": "code",
   "execution_count": null,
   "id": "30e892b7",
   "metadata": {},
   "outputs": [],
   "source": [
    "#Print the number of pages\n",
    "\n",
    "number_of_pages"
   ]
  },
  {
   "cell_type": "code",
   "execution_count": null,
   "id": "29dac3f3",
   "metadata": {
    "scrolled": true
   },
   "outputs": [],
   "source": [
    "# Here I've created a dictionary (that I'll convert to a DataFrame) and a list (to keep the clients name)\n",
    "\n",
    "dic_nomes = {}\n",
    "list_nomes = []\n",
    "\n",
    "# Here I'm iterating over the pages, extracting the text using indexing and the function .extract_text()\n",
    "\n",
    "for i in range(number_of_pages):\n",
    "    read_pdf.pages[i].extract_text()\n",
    "    \n",
    "# Here I'm searching for the position of the string \"NOME\", because that is where the information I want are, and the string \n",
    "# \"CPF\", to know the length I should consider to retrieve the full name of the client   \n",
    "    \n",
    "    pos_NOME = read_pdf.pages[i].extract_text().find('NOME')\n",
    "    pos_CPF = read_pdf.pages[i].extract_text().find('CPF')\n",
    "\n",
    "# Here I'm using indexing and the function .extract_text() to retrieve the full name of the client and saving at the nome \n",
    "# variable\n",
    "    \n",
    "    nome = read_pdf.pages[i].extract_text()[pos_N+5:pos_CPF-2]\n",
    "\n",
    "# Appending the name to the list    \n",
    "    \n",
    "    list_nomes.append(nome)"
   ]
  },
  {
   "cell_type": "code",
   "execution_count": null,
   "id": "c07b9f75",
   "metadata": {},
   "outputs": [],
   "source": [
    "len(list_nomes)"
   ]
  },
  {
   "cell_type": "code",
   "execution_count": 3,
   "id": "3b84f99c",
   "metadata": {},
   "outputs": [],
   "source": [
    "# Transforming the list into a dictonary\n",
    "\n",
    "dic_nomes['nomes'] = list_nomes"
   ]
  },
  {
   "cell_type": "code",
   "execution_count": null,
   "id": "b8d2d3bf",
   "metadata": {},
   "outputs": [],
   "source": [
    "dic_nomes"
   ]
  },
  {
   "cell_type": "code",
   "execution_count": null,
   "id": "f2f9f425",
   "metadata": {},
   "outputs": [],
   "source": [
    "# Transforming the dictionary into a DataFrame\n",
    "\n",
    "df = pd.DataFrame(data=dic_nomes)"
   ]
  },
  {
   "cell_type": "code",
   "execution_count": null,
   "id": "b856efb1",
   "metadata": {},
   "outputs": [],
   "source": [
    "# Exporting to Excel\n",
    "\n",
    "df.to_excel('nomes.xlsx')"
   ]
  }
 ],
 "metadata": {
  "kernelspec": {
   "display_name": "Python 3 (ipykernel)",
   "language": "python",
   "name": "python3"
  },
  "language_info": {
   "codemirror_mode": {
    "name": "ipython",
    "version": 3
   },
   "file_extension": ".py",
   "mimetype": "text/x-python",
   "name": "python",
   "nbconvert_exporter": "python",
   "pygments_lexer": "ipython3",
   "version": "3.11.2"
  }
 },
 "nbformat": 4,
 "nbformat_minor": 5
}
